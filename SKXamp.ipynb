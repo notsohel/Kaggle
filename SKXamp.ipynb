{
  "metadata": {
    "kernelspec": {
      "language": "python",
      "display_name": "Python 3",
      "name": "python3"
    },
    "language_info": {
      "name": "python",
      "version": "3.7.12",
      "mimetype": "text/x-python",
      "codemirror_mode": {
        "name": "ipython",
        "version": 3
      },
      "pygments_lexer": "ipython3",
      "nbconvert_exporter": "python",
      "file_extension": ".py"
    },
    "colab": {
      "name": "SKXamp.ipynb",
      "provenance": [],
      "collapsed_sections": [],
      "include_colab_link": true
    }
  },
  "nbformat_minor": 0,
  "nbformat": 4,
  "cells": [
    {
      "cell_type": "markdown",
      "metadata": {
        "id": "view-in-github",
        "colab_type": "text"
      },
      "source": [
        "<a href=\"https://colab.research.google.com/github/notsohel/Kaggle/blob/main/SKXamp.ipynb\" target=\"_parent\"><img src=\"https://colab.research.google.com/assets/colab-badge.svg\" alt=\"Open In Colab\"/></a>"
      ]
    },
    {
      "cell_type": "code",
      "source": [
        "!git clone https://github.com/MachineEditor/DeepFaceLab.git"
      ],
      "metadata": {
        "_uuid": "8f2839f25d086af736a60e9eeb907d3b93b6e0e5",
        "_cell_guid": "b1076dfc-b9ad-4769-8c92-a6c4dae69d19",
        "trusted": true,
        "id": "Ks2IxPoo6DHJ"
      },
      "execution_count": null,
      "outputs": []
    },
    {
      "cell_type": "code",
      "source": [
        "!pip uninstall -y tensorflow\n",
        "!pip install -r ./DeepFaceLab/requirements-colab.txt\n",
        "!pip install --upgrade scikit-image\n",
        "!apt-get install cuda-10-0"
      ],
      "metadata": {
        "trusted": true,
        "id": "Bhg28Bqp6DHT"
      },
      "execution_count": null,
      "outputs": []
    },
    {
      "cell_type": "code",
      "source": [
        "! conda install -y gdown\n",
        "\n",
        "!gdown --id 1-1G5V2HaYcCk5jHuLMQvF_f_4LvDhZEC\n",
        "!gdown --id 1-5gTK8cNgmuaEJDOH49rIaA-8_V9HcH4\n",
        "!unzip xAMP.zip -d model\n",
        "!rm xAMP.zip\n",
        "!mkdir aligned\n",
        "!mv faceset.pak aligned"
      ],
      "metadata": {
        "trusted": true,
        "id": "e6JtvxYC6DHQ"
      },
      "execution_count": null,
      "outputs": []
    },
    {
      "cell_type": "code",
      "source": [
        "cmd=\"./DeepFaceLab/main.py train --training-data-src-dir ./aligned --training-data-dst-dir ./aligned --model-dir ./model --model AMP --silent-start \"\n",
        "!python $cmd"
      ],
      "metadata": {
        "trusted": true,
        "id": "ZgzqlFaQ6DHU"
      },
      "execution_count": null,
      "outputs": []
    },
    {
      "cell_type": "code",
      "source": [
        "!zip -0 -r -q modelD.zip model"
      ],
      "metadata": {
        "id": "KiQwzHh8T91T"
      },
      "execution_count": null,
      "outputs": []
    },
    {
      "cell_type": "code",
      "source": [
        "from IPython.display import FileLink \n",
        "FileLink(r'###')"
      ],
      "metadata": {
        "id": "H7J_wl2QUMVB"
      },
      "execution_count": null,
      "outputs": []
    }
  ]
}
