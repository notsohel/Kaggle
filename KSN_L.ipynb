{
  "metadata": {
    "kernelspec": {
      "language": "python",
      "display_name": "Python 3",
      "name": "python3"
    },
    "language_info": {
      "name": "python",
      "version": "3.7.12",
      "mimetype": "text/x-python",
      "codemirror_mode": {
        "name": "ipython",
        "version": 3
      },
      "pygments_lexer": "ipython3",
      "nbconvert_exporter": "python",
      "file_extension": ".py"
    },
    "colab": {
      "name": "SK_DF-UDT.ipynb",
      "provenance": [],
      "collapsed_sections": []
    }
  },
  "nbformat_minor": 0,
  "nbformat": 4,
  "cells": [
    {
      "cell_type": "code",
      "source": [
        "!git clone --quiet https://github.com/iperov/DeepFaceLab.git\n",
        "!pip uninstall -q -y tensorflow\n",
        "!pip install -q  -r ./DeepFaceLab/requirements-colab.txt\n",
        "!pip install -q --upgrade scikit-image\n",
        "!apt-get install -qq cuda-10-0"
      ],
      "metadata": {
        "_uuid": "8f2839f25d086af736a60e9eeb907d3b93b6e0e5",
        "_cell_guid": "b1076dfc-b9ad-4769-8c92-a6c4dae69d19",
        "trusted": true,
        "id": "Ks2IxPoo6DHJ"
      },
      "execution_count": null,
      "outputs": []
    },
    {
      "cell_type": "code",
      "source": [
        "! conda install -q -y gdown\n",
        "\n",
        "!gdown --fuzzy https://drive.google.com/file/d/1K5OID1JluD6bOz2I4BHxv_WxxUEzjnd7/view?usp=sharing\n",
        "!gdown --fuzzy https://drive.google.com/file/d/1U0Wf5KRZyjPFLyVNF0rpt_GHu06SAd2J/view?usp=sharing\n",
        "!unzip modelL.zip -d model\n",
        "!rm modelD.zip\n",
        "!unzip data.zip \n",
        "!rm data.zip"
      ],
      "metadata": {
        "trusted": true,
        "id": "e6JtvxYC6DHQ"
      },
      "execution_count": null,
      "outputs": []
    },
    {
      "cell_type": "code",
      "source": [
        "cmd=\"./DeepFaceLab/main.py train --training-data-src-dir ./data_src/aligned --training-data-dst-dir ./data_dst/aligned --model-dir ./model --model SAEHD --silent-start \"\n",
        "!python $cmd"
      ],
      "metadata": {
        "trusted": true,
        "id": "ZgzqlFaQ6DHU"
      },
      "execution_count": null,
      "outputs": []
    },
    {
      "cell_type": "code",
      "source": [
        "!rm -r ./DeepFaceLab"
      ],
      "metadata": {
        "id": "WsLq5WQ6djry"
      },
      "execution_count": null,
      "outputs": []
    },
    {
      "cell_type": "code",
      "source": [
        "!zip -0 -r -q modelL.zip ./model/*"
      ],
      "metadata": {
        "id": "KiQwzHh8T91T"
      },
      "execution_count": null,
      "outputs": []
    },
    {
      "cell_type": "code",
      "source": [
        "!zip -0 -r -q modelL.zip model"
      ],
      "metadata": {
        "id": "FiTNx5P9pMrX"
      },
      "execution_count": null,
      "outputs": []
    },
    {
      "cell_type": "code",
      "source": [
        "from IPython.display import FileLink \n",
        "FileLink(r'modelL.zip')"
      ],
      "metadata": {
        "id": "H7J_wl2QUMVB"
      },
      "execution_count": null,
      "outputs": []
    }
  ]
}